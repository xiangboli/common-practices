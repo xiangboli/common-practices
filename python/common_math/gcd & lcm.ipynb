{
 "cells": [
  {
   "cell_type": "code",
   "execution_count": 1,
   "metadata": {},
   "outputs": [],
   "source": [
    "%load_ext memory_profiler\n",
    "#%load_ext line_profiler"
   ]
  },
  {
   "cell_type": "code",
   "execution_count": 16,
   "metadata": {},
   "outputs": [
    {
     "name": "stdout",
     "output_type": "stream",
     "text": [
      "peak memory: 44.45 MiB, increment: 0.00 MiB\n",
      "CPU times: user 233 ms, sys: 8.56 ms, total: 241 ms\n",
      "Wall time: 353 ms\n",
      "120\n"
     ]
    }
   ],
   "source": [
    "def naive_gcd(m, n):\n",
    "    if m >= n:\n",
    "        _min = m\n",
    "    else: \n",
    "        _min = n\n",
    "    \n",
    "    i = 1    \n",
    "    while i < _min:\n",
    "        if not m % i and not n % i:\n",
    "            max_gcd = i\n",
    "        \n",
    "        i += 1\n",
    "    \n",
    "    return max_gcd\n",
    "\n",
    "%time %memit _gcd = naive_gcd(1233240, 1842360)\n",
    "print(_gcd)\n",
    "            \n",
    "    "
   ]
  },
  {
   "cell_type": "markdown",
   "metadata": {},
   "source": [
    "## Formula:\n",
    "gcd(0, n) = n\n",
    "\n",
    "gcd(m, n) = gcd(n % m, m ) for m > 0"
   ]
  },
  {
   "cell_type": "code",
   "execution_count": 15,
   "metadata": {},
   "outputs": [
    {
     "name": "stdout",
     "output_type": "stream",
     "text": [
      "peak memory: 44.45 MiB, increment: 0.00 MiB\n",
      "CPU times: user 32.5 ms, sys: 35 ms, total: 67.6 ms\n",
      "Wall time: 222 ms\n",
      "120\n"
     ]
    }
   ],
   "source": [
    "def recursion_gcd(m, n):\n",
    "    if not m:\n",
    "        return n\n",
    "    return recursion_gcd(n%m, m)\n",
    "\n",
    "%time %memit _gcd = recursion_gcd(1233240, 1842360)\n",
    "print(_gcd)    "
   ]
  },
  {
   "cell_type": "markdown",
   "metadata": {},
   "source": [
    "## Formula:\n",
    "gcd(m, n) * lcm(m, n) = m * n"
   ]
  },
  {
   "cell_type": "code",
   "execution_count": 19,
   "metadata": {},
   "outputs": [
    {
     "name": "stdout",
     "output_type": "stream",
     "text": [
      "peak memory: 43.94 MiB, increment: 0.01 MiB\n",
      "CPU times: user 33.4 ms, sys: 36.2 ms, total: 69.6 ms\n",
      "Wall time: 220 ms\n",
      "1320.0\n"
     ]
    }
   ],
   "source": [
    "def lcm(m, n):\n",
    "    return m*n / recursion_gcd(m,n)\n",
    "\n",
    "%time %memit _lcm = lcm(120, 220)\n",
    "print(_lcm)  "
   ]
  },
  {
   "cell_type": "code",
   "execution_count": null,
   "metadata": {},
   "outputs": [],
   "source": []
  }
 ],
 "metadata": {
  "kernelspec": {
   "display_name": "python3_venv_common",
   "language": "python",
   "name": "nlp"
  },
  "language_info": {
   "codemirror_mode": {
    "name": "ipython",
    "version": 3
   },
   "file_extension": ".py",
   "mimetype": "text/x-python",
   "name": "python",
   "nbconvert_exporter": "python",
   "pygments_lexer": "ipython3",
   "version": "3.6.1"
  }
 },
 "nbformat": 4,
 "nbformat_minor": 2
}
